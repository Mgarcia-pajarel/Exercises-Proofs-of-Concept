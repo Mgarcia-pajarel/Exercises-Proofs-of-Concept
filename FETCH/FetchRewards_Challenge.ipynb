{
 "cells": [
  {
   "cell_type": "code",
   "execution_count": 1,
   "metadata": {},
   "outputs": [],
   "source": [
    "import numpy as np\n",
    "\n",
    "def lev_ratio_and_distance(s1, s2, ratio_calculation = False):\n",
    "    \n",
    "    \"\"\" Levenshtein, in 1965, developed a mathematical way of finding similarities and assign a value\n",
    "        to it when comparing two texts. It was a smart approach basically looking for how many edits\n",
    "        meaning additions, deletions and substitutions would be needed to make both texts the same.\n",
    "    \n",
    "        lev_ratio_and_distance is a function that calculates the Levenshtein distance between two strings.\n",
    "        If ratio_calcuation = True, the function computes the levenshtein distance ratio of similarity\n",
    "        between two strings. For all i and j, distance[i,j] will contain the Levenshtein distance\n",
    "        between the first i characters of s1 and the first j characters of s2\n",
    "    \"\"\"\n",
    "\n",
    "    # Set-up matrix of zeros\n",
    "\n",
    "    rows = len(s1)+1\n",
    "    cols = len(s2)+1\n",
    "    distance = np.zeros((rows,cols),dtype = int)\n",
    "\n",
    "    # Populate matrix of zeros with the indexes of each character of both strings\n",
    "\n",
    "    for i in range(1, rows):\n",
    "        for k in range(1,cols):\n",
    "            distance[i][0] = i\n",
    "            distance[0][k] = k\n",
    "\n",
    "    # Iterate with the matrix to compute the cost of deletions, insertions and/or substitutions    \n",
    "\n",
    "    for col in range(1, cols):\n",
    "        for row in range(1, rows):\n",
    "            if s1[row-1] == s2[col-1]:\n",
    "                cost = 0 # If the characters are the same in the two strings in a given position [i,j] then the cost is 0\n",
    "            else:\n",
    "                # In order to align the results with those of the Levenshtein existing models, if we choose to calculate the ratio\n",
    "                # the cost of a substitution is 2. If we calculate just distance, then the cost of a substitution is 1. We can decide and change easily\n",
    "                # the cost we want for each substitution.\n",
    "                if ratio_calculation == True:\n",
    "                    cost = 2\n",
    "                else:\n",
    "                    cost = 1\n",
    "            distance[row][col] = min(distance[row-1][col] + 1,      # Cost of deletions\n",
    "                                 distance[row][col-1] + 1,          # Cost of insertions\n",
    "                                 distance[row-1][col-1] + cost)     # Cost of substitutions\n",
    "    if ratio_calculation == True:\n",
    "\n",
    "        # Computation of the Levenshtein Distance Ratio\n",
    "        \n",
    "        Ratio = ((len(s1)+len(s2)) - distance[row][col]) / (len(s1)+len(s2))\n",
    "    \n",
    "        return Ratio\n",
    "    else:\n",
    "        \n",
    "        # print(distance) \n",
    "        \n",
    "        # Uncomment if you would like to see the matrix showing how the algorithm computes the cost\n",
    "        # of deletions, insertions and/or substitutions. Comment to avoid that.\n",
    "        # This is the minimum number of edits needed to convert string 1 to string 2\n",
    "        \n",
    "        return \"The strings are {} edits away\".format(distance[row][col])"
   ]
  },
  {
   "cell_type": "code",
   "execution_count": 2,
   "metadata": {},
   "outputs": [],
   "source": [
    "s1 = open(\"sample1.txt\",\"r\")"
   ]
  },
  {
   "cell_type": "code",
   "execution_count": 3,
   "metadata": {},
   "outputs": [],
   "source": [
    "String1 = s1.read()"
   ]
  },
  {
   "cell_type": "code",
   "execution_count": 4,
   "metadata": {},
   "outputs": [],
   "source": [
    "s2 = open(\"sample2.txt\",\"r\")"
   ]
  },
  {
   "cell_type": "code",
   "execution_count": 5,
   "metadata": {},
   "outputs": [],
   "source": [
    "String2 = s2.read()"
   ]
  },
  {
   "cell_type": "code",
   "execution_count": 6,
   "metadata": {},
   "outputs": [],
   "source": [
    "s3 = open(\"sample3.txt\",\"r\")"
   ]
  },
  {
   "cell_type": "code",
   "execution_count": 13,
   "metadata": {},
   "outputs": [],
   "source": [
    "String3 = s3.read()"
   ]
  },
  {
   "cell_type": "code",
   "execution_count": 7,
   "metadata": {},
   "outputs": [],
   "source": [
    "d1d2= lev_ratio_and_distance(String1.lower(),String2.lower())"
   ]
  },
  {
   "cell_type": "code",
   "execution_count": 8,
   "metadata": {},
   "outputs": [
    {
     "name": "stdout",
     "output_type": "stream",
     "text": [
      "The strings are 65 edits away\n"
     ]
    }
   ],
   "source": [
    "print(d1d2)"
   ]
  },
  {
   "cell_type": "code",
   "execution_count": 9,
   "metadata": {},
   "outputs": [],
   "source": [
    "ratiod1d2= lev_ratio_and_distance(String1.lower(),String2.lower(),ratio_calculation=True)"
   ]
  },
  {
   "cell_type": "code",
   "execution_count": 10,
   "metadata": {},
   "outputs": [
    {
     "name": "stdout",
     "output_type": "stream",
     "text": [
      "0.8753541076487252\n"
     ]
    }
   ],
   "source": [
    "print(ratiod1d2)"
   ]
  },
  {
   "cell_type": "code",
   "execution_count": 17,
   "metadata": {},
   "outputs": [],
   "source": [
    "d1d3= lev_ratio_and_distance(String1.lower(),String3.lower())"
   ]
  },
  {
   "cell_type": "code",
   "execution_count": 18,
   "metadata": {},
   "outputs": [
    {
     "name": "stdout",
     "output_type": "stream",
     "text": [
      "The strings are 296 edits away\n"
     ]
    }
   ],
   "source": [
    "print(d1d3)"
   ]
  },
  {
   "cell_type": "code",
   "execution_count": 19,
   "metadata": {},
   "outputs": [],
   "source": [
    "ratiod1d3= lev_ratio_and_distance(String1.lower(),String3.lower(),ratio_calculation=True)"
   ]
  },
  {
   "cell_type": "code",
   "execution_count": 15,
   "metadata": {},
   "outputs": [
    {
     "name": "stdout",
     "output_type": "stream",
     "text": [
      "0.4681404421326398\n"
     ]
    }
   ],
   "source": [
    "print(ratiod1d3)"
   ]
  },
  {
   "cell_type": "code",
   "execution_count": 21,
   "metadata": {},
   "outputs": [],
   "source": [
    "d2d3= lev_ratio_and_distance(String2.lower(),String3.lower())"
   ]
  },
  {
   "cell_type": "code",
   "execution_count": 23,
   "metadata": {},
   "outputs": [
    {
     "name": "stdout",
     "output_type": "stream",
     "text": [
      "The strings are 289 edits away\n"
     ]
    }
   ],
   "source": [
    "print(d2d3)"
   ]
  },
  {
   "cell_type": "code",
   "execution_count": 24,
   "metadata": {},
   "outputs": [],
   "source": [
    "ratiod2d3= lev_ratio_and_distance(String2.lower(),String3.lower(),ratio_calculation=True)"
   ]
  },
  {
   "cell_type": "code",
   "execution_count": 80,
   "metadata": {},
   "outputs": [
    {
     "name": "stdout",
     "output_type": "stream",
     "text": [
      "0.4589308996088657\n"
     ]
    }
   ],
   "source": [
    "print(ratiod2d3)"
   ]
  }
 ],
 "metadata": {
  "kernelspec": {
   "display_name": "Python 3",
   "language": "python",
   "name": "python3"
  },
  "language_info": {
   "codemirror_mode": {
    "name": "ipython",
    "version": 3
   },
   "file_extension": ".py",
   "mimetype": "text/x-python",
   "name": "python",
   "nbconvert_exporter": "python",
   "pygments_lexer": "ipython3",
   "version": "3.6.9"
  }
 },
 "nbformat": 4,
 "nbformat_minor": 2
}
